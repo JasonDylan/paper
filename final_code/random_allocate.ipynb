{
 "cells": [
  {
   "cell_type": "code",
   "execution_count": 71,
   "metadata": {},
   "outputs": [
    {
     "ename": "ImportError",
     "evalue": "cannot import name 'cul_a_cycle_rnd' from 'city_cls' (d:\\Users\\sjc\\algorithm\\paper\\final_code\\city_cls.py)",
     "output_type": "error",
     "traceback": [
      "\u001b[1;31m---------------------------------------------------------------------------\u001b[0m",
      "\u001b[1;31mImportError\u001b[0m                               Traceback (most recent call last)",
      "Input \u001b[1;32mIn [71]\u001b[0m, in \u001b[0;36m<cell line: 3>\u001b[1;34m()\u001b[0m\n\u001b[0;32m      1\u001b[0m \u001b[38;5;28;01mimport\u001b[39;00m \u001b[38;5;21;01mpandas\u001b[39;00m \u001b[38;5;28;01mas\u001b[39;00m \u001b[38;5;21;01mpd\u001b[39;00m\n\u001b[0;32m      2\u001b[0m \u001b[38;5;28;01mimport\u001b[39;00m \u001b[38;5;21;01mnumpy\u001b[39;00m \u001b[38;5;28;01mas\u001b[39;00m \u001b[38;5;21;01mnp\u001b[39;00m\n\u001b[1;32m----> 3\u001b[0m \u001b[38;5;28;01mfrom\u001b[39;00m \u001b[38;5;21;01mcity_cls\u001b[39;00m \u001b[38;5;28;01mimport\u001b[39;00m (\n\u001b[0;32m      4\u001b[0m     generate_city,\n\u001b[0;32m      5\u001b[0m     get_city_2_proveng_dict,\n\u001b[0;32m      6\u001b[0m     change_df_city_name_2_idx,\n\u001b[0;32m      7\u001b[0m     \u001b[38;5;66;03m# cul_a_cycle,\u001b[39;00m\n\u001b[0;32m      8\u001b[0m     cul_a_cycle_rnd,\n\u001b[0;32m      9\u001b[0m     cul_a_cycle_nearest,\n\u001b[0;32m     10\u001b[0m     cul_a_cycle_single_stage\n\u001b[0;32m     11\u001b[0m )\n\u001b[0;32m     12\u001b[0m \u001b[38;5;28;01mimport\u001b[39;00m \u001b[38;5;21;01mos\u001b[39;00m\n\u001b[0;32m     13\u001b[0m \u001b[38;5;66;03m# import random\u001b[39;00m\n\u001b[0;32m     14\u001b[0m \u001b[38;5;66;03m# 获取当前工作目录\u001b[39;00m\n",
      "\u001b[1;31mImportError\u001b[0m: cannot import name 'cul_a_cycle_rnd' from 'city_cls' (d:\\Users\\sjc\\algorithm\\paper\\final_code\\city_cls.py)"
     ]
    }
   ],
   "source": [
    "import pandas as pd\n",
    "import numpy as np\n",
    "from city_cls import (\n",
    "    generate_city,\n",
    "    get_city_2_proveng_dict,\n",
    "    change_df_city_name_2_idx,\n",
    "    # cul_a_cycle,\n",
    "    cul_a_cycle_rnd,\n",
    "    cul_a_cycle_nearest,\n",
    "    cul_a_cycle_single_stage\n",
    ")\n",
    "import os\n",
    "import random\n",
    "# 获取当前工作目录\n",
    "current_dir = os.getcwd()\n",
    "print(\"当前工作目录:\", current_dir)\n",
    "\n",
    "# 设置新的工作目录\n",
    "new_dir = r\"D:\\Users\\sjc\\algorithm\\paper\"\n",
    "os.chdir(new_dir)\n",
    "\n",
    "# 再次获取当前工作目录\n",
    "updated_dir = os.getcwd()\n",
    "print(\"更新后的工作目录:\", updated_dir)"
   ]
  },
  {
   "cell_type": "code",
   "execution_count": 63,
   "metadata": {},
   "outputs": [],
   "source": [
    "# 全局的一些设定\n",
    "## 收益率\n",
    "revenue_for_lv = [3500, 3000, 2500, 2000, 1500]\n",
    "# 全局设定种子，保证，每次随机结果一致\n",
    "np.random.seed(42)\n",
    "# 生成城市规模/一个省\n",
    "city_num = 26\n",
    "# 生成 26个城市\n",
    "city_distance_df = generate_city(city_num=city_num)\n",
    "city_to_proveng = get_city_2_proveng_dict()\n",
    "\n",
    "proveng = city_distance_df.index.get_level_values(\n",
    "    \"proveng\"\n",
    ").unique()  # 获得所有province的name\n",
    "proveng_dict = {proveng[i]: i + 1 for i in range(len(proveng))}\n",
    "city_names = city_distance_df.columns\n",
    "a_city_distance_df, city_num_2_name = change_df_city_name_2_idx(\n",
    "    cities=city_distance_df\n",
    ")\n",
    "\n",
    "arriving_rate_df = pd.read_excel(\n",
    "    \"./data/数据.xlsx\", sheet_name=\"arriving rate\", index_col=0\n",
    ")\n",
    "travel_fee_df = pd.read_excel(\n",
    "    \"./data/数据.xlsx\", sheet_name=\"travel fee\", index_col=0\n",
    ")\n",
    "initial_state_df = pd.read_excel(\n",
    "    \"./data/数据.xlsx\", sheet_name=\"initial state\", index_col=0\n",
    ")\n",
    "servers_df = pd.read_excel(\"./data/数据.xlsx\", sheet_name=\"servers\", index_col=0)\n",
    "# 员工\n",
    "servers_df.columns = [\"current_city\", \"lv\", \"day off\"]\n",
    "\n",
    "# 对于每个join，产生其分配方案，生成所有分配方案，分配方案是指\n",
    "# 当前日子，对于每个城市的状态，业务员的状态，生成一组对业务员的分配，\n",
    "# 可能为（业务员编号id，业务员城市，分配去的城市编号，业务员等级，城市等级）\n",
    "\n",
    "arriving_rate_df = arriving_rate_df[:city_num]\n",
    "a_state_df = initial_state_df.copy()[:city_num]\n",
    "a_servers_df = servers_df.copy()[servers_df[\"current_city\"] <= city_num]\n",
    "saved_params = {}\n",
    "T = 7\n"
   ]
  },
  {
   "cell_type": "markdown",
   "metadata": {},
   "source": [
    "# benchmark "
   ]
  },
  {
   "cell_type": "code",
   "execution_count": 64,
   "metadata": {},
   "outputs": [
    {
     "name": "stdout",
     "output_type": "stream",
     "text": [
      "i=0\n"
     ]
    },
    {
     "ename": "NameError",
     "evalue": "name 'cul_a_cycle_rnd' is not defined",
     "output_type": "error",
     "traceback": [
      "\u001b[1;31m---------------------------------------------------------------------------\u001b[0m",
      "\u001b[1;31mNameError\u001b[0m                                 Traceback (most recent call last)",
      "Input \u001b[1;32mIn [64]\u001b[0m, in \u001b[0;36m<cell line: 6>\u001b[1;34m()\u001b[0m\n\u001b[0;32m      6\u001b[0m \u001b[38;5;28;01mfor\u001b[39;00m i \u001b[38;5;129;01min\u001b[39;00m \u001b[38;5;28mrange\u001b[39m(iters):\n\u001b[0;32m      7\u001b[0m     \u001b[38;5;28mprint\u001b[39m(\u001b[38;5;124mf\u001b[39m\u001b[38;5;124m\"\u001b[39m\u001b[38;5;132;01m{\u001b[39;00mi\u001b[38;5;132;01m=}\u001b[39;00m\u001b[38;5;124m\"\u001b[39m)\n\u001b[1;32m----> 8\u001b[0m     reduce_V_1 \u001b[38;5;241m=\u001b[39m \u001b[43mcul_a_cycle_rnd\u001b[49m(\n\u001b[0;32m      9\u001b[0m     T,\n\u001b[0;32m     10\u001b[0m     a_servers_df,\n\u001b[0;32m     11\u001b[0m     a_state_df,\n\u001b[0;32m     12\u001b[0m     arriving_rate_df,\n\u001b[0;32m     13\u001b[0m     a_city_distance_df,\n\u001b[0;32m     14\u001b[0m     proveng_dict,\n\u001b[0;32m     15\u001b[0m     city_num_2_name,\n\u001b[0;32m     16\u001b[0m     reduce_V_1,\n\u001b[0;32m     17\u001b[0m     )\n",
      "\u001b[1;31mNameError\u001b[0m: name 'cul_a_cycle_rnd' is not defined"
     ]
    }
   ],
   "source": [
    "# 输入一个缩减为三个省的state 和 一个action 对应结果为 对应的收益\n",
    "# 这个循环，进行一次指定周期内的迭代。\n",
    "reduce_V_1 = [{} for _ in range(T)]\n",
    "random.seed(42)\n",
    "iters = 100000\n",
    "for i in range(iters):\n",
    "    print(f\"{i=}\")\n",
    "    reduce_V_1 = cul_a_cycle_rnd(\n",
    "    T,\n",
    "    a_servers_df,\n",
    "    a_state_df,\n",
    "    arriving_rate_df,\n",
    "    a_city_distance_df,\n",
    "    proveng_dict,\n",
    "    city_num_2_name,\n",
    "    reduce_V_1,\n",
    "    )\n",
    "    # print(f\"{i=} {reduce_V_1=}\")"
   ]
  },
  {
   "cell_type": "code",
   "execution_count": null,
   "metadata": {},
   "outputs": [],
   "source": [
    "    # 输入一个缩减为三个省的state 和 一个action 对应结果为 对应的收益\n",
    "    # 这个循环，进行一次指定周期内的迭代。\n",
    "reduce_V_1 = [{} for _ in range(T)]\n",
    "random.seed(42)\n",
    "iters = 100000\n",
    "for i in range(iters):\n",
    "    reduce_V_1 = cul_a_cycle_nearest(\n",
    "        T,\n",
    "        a_servers_df,\n",
    "        a_state_df,\n",
    "        arriving_rate_df,\n",
    "        a_city_distance_df,\n",
    "        proveng_dict,\n",
    "        city_num_2_name,\n",
    "        reduce_V_1,\n",
    "    )\n",
    "    # print(f\"{i=} {reduce_V_1=}\")"
   ]
  },
  {
   "cell_type": "code",
   "execution_count": null,
   "metadata": {},
   "outputs": [],
   "source": [
    "    # 输入一个缩减为三个省的state 和 一个action 对应结果为 对应的收益\n",
    "    # 这个循环，进行一次指定周期内的迭代。\n",
    "reduce_V_1 = [{} for _ in range(T)]\n",
    "random.seed(42)\n",
    "iters = 100000\n",
    "for i in range(iters):\n",
    "    reduce_V_1 = cul_a_cycle_single_stage(\n",
    "        T,\n",
    "        a_servers_df,\n",
    "        a_state_df,\n",
    "        arriving_rate_df,\n",
    "        a_city_distance_df,\n",
    "        proveng_dict,\n",
    "        city_num_2_name,\n",
    "        reduce_V_1,\n",
    "    )\n",
    "    # print(f\"{i=} {reduce_V_1=}\")"
   ]
  },
  {
   "cell_type": "code",
   "execution_count": null,
   "metadata": {},
   "outputs": [],
   "source": []
  }
 ],
 "metadata": {
  "kernelspec": {
   "display_name": "base",
   "language": "python",
   "name": "python3"
  },
  "language_info": {
   "codemirror_mode": {
    "name": "ipython",
    "version": 3
   },
   "file_extension": ".py",
   "mimetype": "text/x-python",
   "name": "python",
   "nbconvert_exporter": "python",
   "pygments_lexer": "ipython3",
   "version": "3.9.12"
  }
 },
 "nbformat": 4,
 "nbformat_minor": 2
}
